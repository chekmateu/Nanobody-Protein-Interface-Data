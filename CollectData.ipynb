{
 "cells": [
  {
   "cell_type": "code",
   "execution_count": 26,
   "metadata": {},
   "outputs": [],
   "source": [
    "import numpy as np\n",
    "import csv\n",
    "import warnings\n",
    "from Bio.PDB.PDBExceptions import PDBConstructionWarning\n",
    "from Bio.PDB import *\n",
    "from Bio import SeqIO\n",
    "import nglview as nv\n",
    "from glob import glob"
   ]
  },
  {
   "cell_type": "code",
   "execution_count": 11,
   "metadata": {},
   "outputs": [
    {
     "name": "stderr",
     "output_type": "stream",
     "text": [
      "C:\\Users\\chekm\\AppData\\Local\\Packages\\PythonSoftwareFoundation.Python.3.10_qbz5n2kfra8p0\\LocalCache\\local-packages\\Python310\\site-packages\\Bio\\PDB\\StructureBuilder.py:89: PDBConstructionWarning: WARNING: Chain A is discontinuous at line 21843.\n",
      "  warnings.warn(\n",
      "C:\\Users\\chekm\\AppData\\Local\\Packages\\PythonSoftwareFoundation.Python.3.10_qbz5n2kfra8p0\\LocalCache\\local-packages\\Python310\\site-packages\\Bio\\PDB\\StructureBuilder.py:89: PDBConstructionWarning: WARNING: Chain H is discontinuous at line 21857.\n",
      "  warnings.warn(\n",
      "C:\\Users\\chekm\\AppData\\Local\\Packages\\PythonSoftwareFoundation.Python.3.10_qbz5n2kfra8p0\\LocalCache\\local-packages\\Python310\\site-packages\\Bio\\PDB\\StructureBuilder.py:89: PDBConstructionWarning: WARNING: Chain B is discontinuous at line 21869.\n",
      "  warnings.warn(\n",
      "C:\\Users\\chekm\\AppData\\Local\\Packages\\PythonSoftwareFoundation.Python.3.10_qbz5n2kfra8p0\\LocalCache\\local-packages\\Python310\\site-packages\\Bio\\PDB\\StructureBuilder.py:89: PDBConstructionWarning: WARNING: Chain C is discontinuous at line 21883.\n",
      "  warnings.warn(\n"
     ]
    },
    {
     "name": "stdout",
     "output_type": "stream",
     "text": [
      "A\n"
     ]
    }
   ],
   "source": [
    "\"\"\"\n",
    "Collect pdb data files in the pdbFiles folder.\n",
    "Then use Biopython to parse the pdb files and get the structure data.\n",
    "Append that structure data to the pdbs list for processing later.\n",
    "\n",
    "This was the idea although most of the processing may be just done in the functions rather than stored in a list to save memory.\n",
    "Also certain processes require more than the Biopython structure object since it cannot store the entirety of the data in the pdb\n",
    "file.\n",
    "\"\"\"\n",
    "\n",
    "pdbs = []\n",
    "parser = PDBParser()\n",
    "for f in glob('pdbFiles/*.pdb'):\n",
    "    pdbs.append(parser.get_structure(f'{f}',f))\n",
    "\n",
    "view = nv.show_biopython(pdbs[0][0])\n",
    "\n",
    "print(pdbs[0][0]['A'].get_id())"
   ]
  },
  {
   "cell_type": "code",
   "execution_count": 13,
   "metadata": {},
   "outputs": [],
   "source": [
    "def getBindingRegionResidues(chain1, chain2):\n",
    "    # Convert the chain objects to lists of atoms\n",
    "    atoms1 = list(chain1.get_atoms())\n",
    "    atoms2 = list(chain2.get_atoms())\n",
    "    \n",
    "    # Create a NeighborSearch object for chain1\n",
    "    ns1 = NeighborSearch(atoms1)\n",
    "    \n",
    "    # Find the residues in chain2 that are within 4 angstroms of chain1\n",
    "    nearby_residues2 = []\n",
    "    residue = None\n",
    "    neighbors = None\n",
    "    for atom in atoms2:\n",
    "        neighbors = ns1.search(atom.coord, 4)\n",
    "        for neighbor in neighbors:\n",
    "            residue = neighbor.get_parent()\n",
    "            if residue not in nearby_residues2:\n",
    "                nearby_residues2.append(residue)\n",
    "    \n",
    "    # Create a NeighborSearch object for chain2\n",
    "    ns2 = NeighborSearch(atoms2)\n",
    "\n",
    "    # Find the residues in chain1 that are within 4 angstroms of chain2\n",
    "    nearby_residues1 = []\n",
    "    residue = None\n",
    "    neighbors = None\n",
    "    for atom in atoms1:\n",
    "        neighbors = ns2.search(atom.coord, 4)\n",
    "        for neighbor in neighbors:\n",
    "            residue = neighbor.get_parent()\n",
    "            if residue not in nearby_residues1:\n",
    "                nearby_residues1.append(residue)\n",
    "\n",
    "    output = {chain1.get_id():nearby_residues1, \n",
    "              chain2.get_id():nearby_residues2}\n",
    "    \n",
    "    return output"
   ]
  },
  {
   "cell_type": "code",
   "execution_count": 14,
   "metadata": {},
   "outputs": [],
   "source": [
    "#Get info on the different biological assembly information in the pdb file.\n",
    "def getBiologicalAssemblies(file):\n",
    "    pdb = []\n",
    "    with open(file, 'r') as file:\n",
    "        for line in file:\n",
    "            #Crystal structure/Biological Assembly details are stored in REMARK lines 350\n",
    "            if 'REMARK 350' in line:\n",
    "                pdb.append(\" \".join(line.split()))\n",
    "\n",
    "    assemblies = {}\n",
    "    counter = 1\n",
    "    for line in pdb:\n",
    "        if \"APPLY THE FOLLOWING TO CHAINS\" in line:\n",
    "            assemblies[counter] = line.replace(\"REMARK 350 APPLY THE FOLLOWING TO CHAINS: \", \"\").replace(',', \"\").split()\n",
    "            counter += 1\n",
    "\n",
    "    return assemblies"
   ]
  },
  {
   "cell_type": "code",
   "execution_count": 15,
   "metadata": {},
   "outputs": [],
   "source": [
    "def computeBindingRegion(pdbFile):\n",
    "    #Get biological assemblies in the structure. This requires to reopen the file and read the REMARK lines.\n",
    "    BioAssemblies = getBiologicalAssemblies(file = pdbFile)\n",
    "    \n",
    "    #Parse the pdb file using Biopython and extract the structure information.\n",
    "    parser = PDBParser()\n",
    "    structure = parser.get_structure(id = pdbFile,file = pdbFile)\n",
    "\n",
    "    #Find what chains are part of protein and antibodies.\n",
    "    compoundInfo = structure.header['compound']\n",
    "    for k, v in compoundInfo.items():\n",
    "        if 'antibody' in v['molecule']:\n",
    "            if 'heavy' in v['molecule']:\n",
    "                heavyChains = [c for c in v['chain'].upper().replace(',', \"\").split()]\n",
    "            elif 'light' in v['molecule']:\n",
    "                lightChains = [c for c in v['chain'].upper().replace(',', \"\").split()]\n",
    "        else:\n",
    "            protein = [c for c in v['chain'].replace(',', \"\").upper().split()]\n",
    "\n",
    "    #Compute binding residues in the structure for protein/heavy & light chain interactions for each biological assembly.\n",
    "    chainPairs = {}\n",
    "    currProtein = None\n",
    "    for k, v in BioAssemblies.items():\n",
    "        chainPairs[k] = []\n",
    "        for c in protein:\n",
    "            if c in v:\n",
    "                currProtein = c\n",
    "                v.remove(currProtein)\n",
    "        for chain in v:\n",
    "            chainPairs[k].append((currProtein, chain))\n",
    "\n",
    "    #Compute binding regions\n",
    "    chain1 = None\n",
    "    chain2 = None\n",
    "    BindingRegion = {}\n",
    "    for k, v in chainPairs.items():\n",
    "        for pair in v:\n",
    "            for chain in structure[0]:  \n",
    "                if chain.get_id() == pair[0]:\n",
    "                    chain1 = chain\n",
    "                elif chain.get_id() == pair[1]:\n",
    "                    chain2 = chain\n",
    "            resIdsAtBindReg = getBindingRegionResidues(chain1 = chain1, chain2 = chain2)\n",
    "            BindingRegion[pair] = resIdsAtBindReg\n",
    "    return BindingRegion"
   ]
  },
  {
   "cell_type": "code",
   "execution_count": 16,
   "metadata": {},
   "outputs": [
    {
     "name": "stdout",
     "output_type": "stream",
     "text": [
      "{('A', 'H'): {'A': [<Residue TYR het=  resseq=54 icode= >, <Residue ASP het=  resseq=102 icode= >, <Residue ASN het=  resseq=52 icode= >, <Residue THR het=  resseq=55 icode= >, <Residue ASN het=  resseq=32 icode= >, <Residue LYS het=  resseq=31 icode= >, <Residue GLY het=  resseq=33 icode= >, <Residue MET het=  resseq=99 icode= >, <Residue VAL het=  resseq=100 icode= >, <Residue ARG het=  resseq=101 icode= >, <Residue TRP het=  resseq=50 icode= >], 'H': [<Residue ALA het=  resseq=148 icode= >, <Residue ALA het=  resseq=150 icode= >, <Residue HIS het=  resseq=147 icode= >, <Residue GLU het=  resseq=77 icode= >, <Residue GLY het=  resseq=149 icode= >, <Residue LYS het=  resseq=151 icode= >, <Residue ALA het=  resseq=143 icode= >]}, ('A', 'L'): {'A': [<Residue ASP het=  resseq=32 icode= >, <Residue PHE het=  resseq=31 icode= >, <Residue GLU het=  resseq=97 icode= >, <Residue TYR het=  resseq=36 icode= >, <Residue TYR het=  resseq=34 icode= >, <Residue SER het=  resseq=95 icode= >, <Residue ASN het=  resseq=96 icode= >, <Residue GLY het=  resseq=33 icode= >, <Residue ASN het=  resseq=57 icode= >], 'L': [<Residue VAL het=  resseq=141 icode= >, <Residue LYS het=  resseq=139 icode= >, <Residue TRP het=  resseq=159 icode= >, <Residue GLN het=  resseq=232 icode= >, <Residue TYR het=  resseq=100 icode= >, <Residue HIS het=  resseq=189 icode= >, <Residue THR het=  resseq=142 icode= >, <Residue ASP het=  resseq=196 icode= >, <Residue ASP het=  resseq=231 icode= >, <Residue ALA het=  resseq=143 icode= >, <Residue LYS het=  resseq=151 icode= >]}, ('B', 'C'): {'B': [<Residue TYR het=  resseq=54 icode= >, <Residue ASP het=  resseq=102 icode= >, <Residue ASN het=  resseq=52 icode= >, <Residue THR het=  resseq=55 icode= >, <Residue LYS het=  resseq=31 icode= >, <Residue ASN het=  resseq=32 icode= >, <Residue GLY het=  resseq=33 icode= >, <Residue MET het=  resseq=99 icode= >, <Residue VAL het=  resseq=100 icode= >, <Residue ARG het=  resseq=101 icode= >, <Residue TRP het=  resseq=50 icode= >], 'C': [<Residue ALA het=  resseq=148 icode= >, <Residue ALA het=  resseq=150 icode= >, <Residue HIS het=  resseq=147 icode= >, <Residue GLU het=  resseq=77 icode= >, <Residue GLY het=  resseq=149 icode= >, <Residue LYS het=  resseq=151 icode= >, <Residue ALA het=  resseq=143 icode= >]}, ('B', 'D'): {'B': [<Residue ASP het=  resseq=32 icode= >, <Residue PHE het=  resseq=31 icode= >, <Residue GLU het=  resseq=97 icode= >, <Residue TYR het=  resseq=36 icode= >, <Residue TYR het=  resseq=34 icode= >, <Residue ASN het=  resseq=96 icode= >, <Residue SER het=  resseq=95 icode= >, <Residue GLY het=  resseq=33 icode= >], 'D': [<Residue VAL het=  resseq=141 icode= >, <Residue LYS het=  resseq=139 icode= >, <Residue TRP het=  resseq=159 icode= >, <Residue TYR het=  resseq=100 icode= >, <Residue GLN het=  resseq=232 icode= >, <Residue HIS het=  resseq=189 icode= >, <Residue THR het=  resseq=142 icode= >, <Residue ASP het=  resseq=196 icode= >, <Residue ASP het=  resseq=231 icode= >, <Residue ALA het=  resseq=143 icode= >, <Residue LYS het=  resseq=151 icode= >]}}\n"
     ]
    },
    {
     "name": "stderr",
     "output_type": "stream",
     "text": [
      "C:\\Users\\chekm\\AppData\\Local\\Packages\\PythonSoftwareFoundation.Python.3.10_qbz5n2kfra8p0\\LocalCache\\local-packages\\Python310\\site-packages\\Bio\\PDB\\StructureBuilder.py:89: PDBConstructionWarning: WARNING: Chain A is discontinuous at line 21843.\n",
      "  warnings.warn(\n",
      "C:\\Users\\chekm\\AppData\\Local\\Packages\\PythonSoftwareFoundation.Python.3.10_qbz5n2kfra8p0\\LocalCache\\local-packages\\Python310\\site-packages\\Bio\\PDB\\StructureBuilder.py:89: PDBConstructionWarning: WARNING: Chain H is discontinuous at line 21857.\n",
      "  warnings.warn(\n",
      "C:\\Users\\chekm\\AppData\\Local\\Packages\\PythonSoftwareFoundation.Python.3.10_qbz5n2kfra8p0\\LocalCache\\local-packages\\Python310\\site-packages\\Bio\\PDB\\StructureBuilder.py:89: PDBConstructionWarning: WARNING: Chain B is discontinuous at line 21869.\n",
      "  warnings.warn(\n",
      "C:\\Users\\chekm\\AppData\\Local\\Packages\\PythonSoftwareFoundation.Python.3.10_qbz5n2kfra8p0\\LocalCache\\local-packages\\Python310\\site-packages\\Bio\\PDB\\StructureBuilder.py:89: PDBConstructionWarning: WARNING: Chain C is discontinuous at line 21883.\n",
      "  warnings.warn(\n"
     ]
    }
   ],
   "source": [
    "bind = computeBindingRegion(pdbFile='pdbFiles/7fah.pdb')\n",
    "#print(bind[('A', 'H')][0].get_id()[1])\n",
    "print(bind)"
   ]
  },
  {
   "cell_type": "code",
   "execution_count": 41,
   "metadata": {},
   "outputs": [],
   "source": [
    "#Format the data and label residues participating in binding.\n",
    "def labelBindingResidues(pdbFile, outputFile):\n",
    "    #Ignore warnings\n",
    "    warnings.simplefilter('ignore', PDBConstructionWarning)\n",
    "    BindingRegion = computeBindingRegion(pdbFile = pdbFile)\n",
    "\n",
    "    #Consolidate Binding residue sequence IDs with their chain.\n",
    "    BindingDict = {}\n",
    "    for k, v in BindingRegion.items():\n",
    "        for chain, residues in v.items():\n",
    "            if chain not in BindingDict.keys():\n",
    "                BindingDict[chain] = []\n",
    "            for residue in residues:\n",
    "                BindingDict[chain].append(residue.get_id()[1])\n",
    "\n",
    "    #Get the sequence for chains.\n",
    "    for record in SeqIO.parse(pdbFile, \"pdb-seqres\"):\n",
    "        print(record)\n",
    "    \n",
    "    '''\n",
    "    SequenceData = {record.annotations[\"chain\"]: str(record.seq) for record in SeqIO.parse(pdbFile, \"pdb-seqres\")}\n",
    "    print(SequenceData)\n",
    "    data = []\n",
    "    for chain, residues in SequenceData:\n",
    "        for i in len(residues):\n",
    "            data.append([\n",
    "                chain, i+1, residues[i]\n",
    "            ])\n",
    "    '''\n",
    "    #Create table\n",
    "    return BindingDict"
   ]
  },
  {
   "cell_type": "code",
   "execution_count": 42,
   "metadata": {},
   "outputs": [
    {
     "name": "stdout",
     "output_type": "stream",
     "text": [
      "ID: 7FAH:A\n",
      "Name: 7FAH:A\n",
      "Description: UNP:C3W5S1 C3W5S1_I09A0\n",
      "Database cross-references: UNP:C3W5S1, UNP:C3W5S1_I09A0\n",
      "Number of features: 0\n",
      "/chain=A\n",
      "/molecule_type=protein\n",
      "Seq('MDTLCIGYHANNSTDTVDTVLEKNVTVTHSVNLLEDKHNGKLCKLRGVAPLHLG...HHH')\n",
      "ID: 7FAH:B\n",
      "Name: 7FAH:B\n",
      "Description: UNP:C3W5S1 C3W5S1_I09A0\n",
      "Database cross-references: UNP:C3W5S1, UNP:C3W5S1_I09A0\n",
      "Number of features: 0\n",
      "/chain=B\n",
      "/molecule_type=protein\n",
      "Seq('MDTLCIGYHANNSTDTVDTVLEKNVTVTHSVNLLEDKHNGKLCKLRGVAPLHLG...HHH')\n",
      "ID: 7FAH:C\n",
      "Name: 7FAH:C\n",
      "Description: PDB:7FAH 7FAH\n",
      "Database cross-references: PDB:7FAH, PDB:7FAH\n",
      "Number of features: 0\n",
      "/chain=C\n",
      "/molecule_type=protein\n",
      "Seq('QIQLVQSGPELKKPGETVRISCKASGYTFTKNGMNWVQQAPGKGLKWVGWINTY...VPR')\n",
      "ID: 7FAH:D\n",
      "Name: 7FAH:D\n",
      "Description: PDB:7FAH 7FAH\n",
      "Database cross-references: PDB:7FAH, PDB:7FAH\n",
      "Number of features: 0\n",
      "/chain=D\n",
      "/molecule_type=protein\n",
      "Seq('DIVLTQSPASLAVSLGQRATISCKASQSVDFDGYNYLNWYQQKPGQPPKLLIYA...NEC')\n",
      "ID: 7FAH:H\n",
      "Name: 7FAH:H\n",
      "Description: PDB:7FAH 7FAH\n",
      "Database cross-references: PDB:7FAH, PDB:7FAH\n",
      "Number of features: 0\n",
      "/chain=H\n",
      "/molecule_type=protein\n",
      "Seq('QIQLVQSGPELKKPGETVRISCKASGYTFTKNGMNWVQQAPGKGLKWVGWINTY...VPR')\n",
      "ID: 7FAH:L\n",
      "Name: 7FAH:L\n",
      "Description: PDB:7FAH 7FAH\n",
      "Database cross-references: PDB:7FAH, PDB:7FAH\n",
      "Number of features: 0\n",
      "/chain=L\n",
      "/molecule_type=protein\n",
      "Seq('DIVLTQSPASLAVSLGQRATISCKASQSVDFDGYNYLNWYQQKPGQPPKLLIYA...NEC')\n",
      "{'A': [54, 102, 52, 55, 32, 31, 33, 99, 100, 101, 50, 32, 31, 97, 36, 34, 95, 96, 33, 57], 'H': [148, 150, 147, 77, 149, 151, 143], 'L': [141, 139, 159, 232, 100, 189, 142, 196, 231, 143, 151], 'B': [54, 102, 52, 55, 31, 32, 33, 99, 100, 101, 50, 32, 31, 97, 36, 34, 96, 95, 33], 'C': [148, 150, 147, 77, 149, 151, 143], 'D': [141, 139, 159, 100, 232, 189, 142, 196, 231, 143, 151]}\n"
     ]
    }
   ],
   "source": [
    "print(labelBindingResidues(pdbFile = 'pdbFiles/7fah.pdb', outputFile = \"7fah_binding.csv\"))"
   ]
  }
 ],
 "metadata": {
  "kernelspec": {
   "display_name": "Python 3",
   "language": "python",
   "name": "python3"
  },
  "language_info": {
   "codemirror_mode": {
    "name": "ipython",
    "version": 3
   },
   "file_extension": ".py",
   "mimetype": "text/x-python",
   "name": "python",
   "nbconvert_exporter": "python",
   "pygments_lexer": "ipython3",
   "version": "3.10.11"
  },
  "orig_nbformat": 4
 },
 "nbformat": 4,
 "nbformat_minor": 2
}
