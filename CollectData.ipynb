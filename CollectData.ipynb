{
 "cells": [
  {
   "cell_type": "code",
   "execution_count": 1,
   "metadata": {},
   "outputs": [
    {
     "data": {
      "application/vnd.jupyter.widget-view+json": {
       "model_id": "51b2a1f2d3ce487aa21a3c8cf5376815",
       "version_major": 2,
       "version_minor": 0
      },
      "text/plain": []
     },
     "metadata": {},
     "output_type": "display_data"
    }
   ],
   "source": [
    "import numpy as np\n",
    "import csv\n",
    "from Bio.PDB import *\n",
    "import nglview as nv\n",
    "from glob import glob\n",
    "from sklearn import metrics"
   ]
  },
  {
   "cell_type": "code",
   "execution_count": 2,
   "metadata": {},
   "outputs": [
    {
     "name": "stderr",
     "output_type": "stream",
     "text": [
      "C:\\Users\\chekm\\AppData\\Local\\Packages\\PythonSoftwareFoundation.Python.3.10_qbz5n2kfra8p0\\LocalCache\\local-packages\\Python310\\site-packages\\Bio\\PDB\\StructureBuilder.py:89: PDBConstructionWarning: WARNING: Chain A is discontinuous at line 21843.\n",
      "  warnings.warn(\n",
      "C:\\Users\\chekm\\AppData\\Local\\Packages\\PythonSoftwareFoundation.Python.3.10_qbz5n2kfra8p0\\LocalCache\\local-packages\\Python310\\site-packages\\Bio\\PDB\\StructureBuilder.py:89: PDBConstructionWarning: WARNING: Chain H is discontinuous at line 21857.\n",
      "  warnings.warn(\n",
      "C:\\Users\\chekm\\AppData\\Local\\Packages\\PythonSoftwareFoundation.Python.3.10_qbz5n2kfra8p0\\LocalCache\\local-packages\\Python310\\site-packages\\Bio\\PDB\\StructureBuilder.py:89: PDBConstructionWarning: WARNING: Chain B is discontinuous at line 21869.\n",
      "  warnings.warn(\n",
      "C:\\Users\\chekm\\AppData\\Local\\Packages\\PythonSoftwareFoundation.Python.3.10_qbz5n2kfra8p0\\LocalCache\\local-packages\\Python310\\site-packages\\Bio\\PDB\\StructureBuilder.py:89: PDBConstructionWarning: WARNING: Chain C is discontinuous at line 21883.\n",
      "  warnings.warn(\n"
     ]
    },
    {
     "data": {
      "application/vnd.jupyter.widget-view+json": {
       "model_id": "f8d04ca9b1af4beeb736953553cfdf2f",
       "version_major": 2,
       "version_minor": 0
      },
      "text/plain": [
       "NGLWidget()"
      ]
     },
     "metadata": {},
     "output_type": "display_data"
    }
   ],
   "source": [
    "\"\"\"\n",
    "Collect pdb data files in the pdbFiles folder.\n",
    "Then use Biopython to parse the pdb files and get the structure data.\n",
    "Append that structure data to the pdbs list for processing later.\n",
    "\n",
    "This was the idea although most of the processing may be just done in the functions rather than stored in a list to save memory.\n",
    "Also certain processes require more than the Biopython structure object since it cannot store the entirety of the data in the pdb\n",
    "file.\n",
    "\"\"\"\n",
    "\n",
    "pdbs = []\n",
    "parser = PDBParser()\n",
    "for f in glob('pdbFiles/*.pdb'):\n",
    "    pdbs.append(parser.get_structure(f'{f}',f))\n",
    "\n",
    "view = nv.show_biopython(pdbs[0][0])\n",
    "view"
   ]
  },
  {
   "cell_type": "code",
   "execution_count": 7,
   "metadata": {},
   "outputs": [],
   "source": [
    "def getBindingRegionResidues(chain1, chain2):\n",
    "    # Convert the chain objects to lists of atoms\n",
    "    atoms1 = list(chain1.get_atoms())\n",
    "    atoms2 = list(chain2.get_atoms())\n",
    "    \n",
    "    # Create a NeighborSearch object for chain1\n",
    "    ns = NeighborSearch(atoms1)\n",
    "    \n",
    "    # Find the residues in chain2 that are within 4 angstroms of chain1\n",
    "    nearby_residues = []\n",
    "    for atom in atoms2:\n",
    "        neighbors = ns.search(atom.coord, 4)\n",
    "        for neighbor in neighbors:\n",
    "            residue = neighbor.get_parent()\n",
    "            if residue not in nearby_residues:\n",
    "                nearby_residues.append(residue)\n",
    "    \n",
    "    return nearby_residues"
   ]
  },
  {
   "cell_type": "code",
   "execution_count": 8,
   "metadata": {},
   "outputs": [],
   "source": [
    "#Get info on the different biological assembly information in the pdb file.\n",
    "def getBiologicalAssemblies(file):\n",
    "    pdb = []\n",
    "    with open(file, 'r') as file:\n",
    "        for line in file:\n",
    "            #Crystal structure/Biological Assembly details are stored in REMARK lines 350\n",
    "            if 'REMARK 350' in line:\n",
    "                pdb.append(\" \".join(line.split()))\n",
    "\n",
    "    assemblies = {}\n",
    "    counter = 1\n",
    "    for line in pdb:\n",
    "        if \"APPLY THE FOLLOWING TO CHAINS\" in line:\n",
    "            assemblies[counter] = line.replace(\"REMARK 350 APPLY THE FOLLOWING TO CHAINS: \", \"\").replace(',', \"\").split()\n",
    "            counter += 1\n",
    "\n",
    "    return assemblies"
   ]
  },
  {
   "cell_type": "code",
   "execution_count": 9,
   "metadata": {},
   "outputs": [],
   "source": [
    "def computeBindingRegion(pdbFile):\n",
    "    #Get biological assemblies in the structure. This requires to reopen the file and read the REMARK lines.\n",
    "    BioAssemblies = getBiologicalAssemblies(file = pdbFile)\n",
    "    \n",
    "    #Parse the pdb file using Biopython and extract the structure information.\n",
    "    parser = PDBParser()\n",
    "    structure = parser.get_structure(id = pdbFile,file = pdbFile)\n",
    "\n",
    "    #Find what chains are part of protein and antibodies.\n",
    "    compoundInfo = structure.header['compound']\n",
    "    for k, v in compoundInfo.items():\n",
    "        if 'antibody' in v['molecule']:\n",
    "            if 'heavy' in v['molecule']:\n",
    "                heavyChains = [c for c in v['chain'].upper().replace(',', \"\").split()]\n",
    "            elif 'light' in v['molecule']:\n",
    "                lightChains = [c for c in v['chain'].upper().replace(',', \"\").split()]\n",
    "        else:\n",
    "            protein = [c for c in v['chain'].replace(',', \"\").upper().split()]\n",
    "\n",
    "    #Compute binding residues in the structure for protein/heavy & light chain interactions for each biological assembly.\n",
    "    chainPairs = {}\n",
    "    currProtein = None\n",
    "    for k, v in BioAssemblies.items():\n",
    "        chainPairs[k] = []\n",
    "        for c in protein:\n",
    "            if c in v:\n",
    "                currProtein = c\n",
    "                v.remove(currProtein)\n",
    "        for chain in v:\n",
    "            chainPairs[k].append((currProtein, chain))\n",
    "\n",
    "    #Compute binding regions\n",
    "    chain1 = None\n",
    "    chain2 = None\n",
    "    BindingRegion = {}\n",
    "    for k, v in chainPairs.items():\n",
    "        for pair in v:\n",
    "            for chain in structure[0]:  \n",
    "                if chain.get_id() == pair[0]:\n",
    "                    chain1 = chain\n",
    "                elif chain.get_id() == pair[1]:\n",
    "                    chain2 = chain\n",
    "            resIdsAtBindReg = getBindingRegionResidues(chain1 = chain1, chain2 = chain2)\n",
    "            BindingRegion[pair] = resIdsAtBindReg\n",
    "    return BindingRegion"
   ]
  },
  {
   "cell_type": "code",
   "execution_count": 22,
   "metadata": {},
   "outputs": [
    {
     "name": "stdout",
     "output_type": "stream",
     "text": [
      "{('A', 'H'): [<Residue ALA het=  resseq=148 icode= >, <Residue ALA het=  resseq=150 icode= >, <Residue HIS het=  resseq=147 icode= >, <Residue GLU het=  resseq=77 icode= >, <Residue GLY het=  resseq=149 icode= >, <Residue LYS het=  resseq=151 icode= >, <Residue ALA het=  resseq=143 icode= >], ('A', 'L'): [<Residue VAL het=  resseq=141 icode= >, <Residue LYS het=  resseq=139 icode= >, <Residue TRP het=  resseq=159 icode= >, <Residue GLN het=  resseq=232 icode= >, <Residue TYR het=  resseq=100 icode= >, <Residue HIS het=  resseq=189 icode= >, <Residue THR het=  resseq=142 icode= >, <Residue ASP het=  resseq=196 icode= >, <Residue ASP het=  resseq=231 icode= >, <Residue ALA het=  resseq=143 icode= >, <Residue LYS het=  resseq=151 icode= >], ('B', 'C'): [<Residue ALA het=  resseq=148 icode= >, <Residue ALA het=  resseq=150 icode= >, <Residue HIS het=  resseq=147 icode= >, <Residue GLU het=  resseq=77 icode= >, <Residue GLY het=  resseq=149 icode= >, <Residue LYS het=  resseq=151 icode= >, <Residue ALA het=  resseq=143 icode= >], ('B', 'D'): [<Residue VAL het=  resseq=141 icode= >, <Residue LYS het=  resseq=139 icode= >, <Residue TRP het=  resseq=159 icode= >, <Residue TYR het=  resseq=100 icode= >, <Residue GLN het=  resseq=232 icode= >, <Residue HIS het=  resseq=189 icode= >, <Residue THR het=  resseq=142 icode= >, <Residue ASP het=  resseq=196 icode= >, <Residue ASP het=  resseq=231 icode= >, <Residue ALA het=  resseq=143 icode= >, <Residue LYS het=  resseq=151 icode= >]}\n"
     ]
    },
    {
     "name": "stderr",
     "output_type": "stream",
     "text": [
      "C:\\Users\\chekm\\AppData\\Local\\Packages\\PythonSoftwareFoundation.Python.3.10_qbz5n2kfra8p0\\LocalCache\\local-packages\\Python310\\site-packages\\Bio\\PDB\\StructureBuilder.py:89: PDBConstructionWarning: WARNING: Chain A is discontinuous at line 21843.\n",
      "  warnings.warn(\n",
      "C:\\Users\\chekm\\AppData\\Local\\Packages\\PythonSoftwareFoundation.Python.3.10_qbz5n2kfra8p0\\LocalCache\\local-packages\\Python310\\site-packages\\Bio\\PDB\\StructureBuilder.py:89: PDBConstructionWarning: WARNING: Chain H is discontinuous at line 21857.\n",
      "  warnings.warn(\n",
      "C:\\Users\\chekm\\AppData\\Local\\Packages\\PythonSoftwareFoundation.Python.3.10_qbz5n2kfra8p0\\LocalCache\\local-packages\\Python310\\site-packages\\Bio\\PDB\\StructureBuilder.py:89: PDBConstructionWarning: WARNING: Chain B is discontinuous at line 21869.\n",
      "  warnings.warn(\n",
      "C:\\Users\\chekm\\AppData\\Local\\Packages\\PythonSoftwareFoundation.Python.3.10_qbz5n2kfra8p0\\LocalCache\\local-packages\\Python310\\site-packages\\Bio\\PDB\\StructureBuilder.py:89: PDBConstructionWarning: WARNING: Chain C is discontinuous at line 21883.\n",
      "  warnings.warn(\n"
     ]
    }
   ],
   "source": [
    "bind = computeBindingRegion(pdbFile='pdbFiles/7fah.pdb')\n",
    "#print(bind[('A', 'H')][0].get_id()[1])\n",
    "print(bind)"
   ]
  },
  {
   "cell_type": "code",
   "execution_count": null,
   "metadata": {},
   "outputs": [],
   "source": [
    "#Format the data and label residues participating in binding.\n",
    "def labelBindingResidues(pdbFile):\n",
    "    BindingRegion = computeBindingRegion(pdbFile = pdbFile)\n",
    "    for k, v in BindingRegion.items():\n",
    "            \n",
    "    "
   ]
  }
 ],
 "metadata": {
  "kernelspec": {
   "display_name": "Python 3",
   "language": "python",
   "name": "python3"
  },
  "language_info": {
   "codemirror_mode": {
    "name": "ipython",
    "version": 3
   },
   "file_extension": ".py",
   "mimetype": "text/x-python",
   "name": "python",
   "nbconvert_exporter": "python",
   "pygments_lexer": "ipython3",
   "version": "3.10.11"
  },
  "orig_nbformat": 4
 },
 "nbformat": 4,
 "nbformat_minor": 2
}
